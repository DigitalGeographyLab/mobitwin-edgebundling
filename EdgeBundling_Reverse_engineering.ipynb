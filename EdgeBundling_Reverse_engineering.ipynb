{
 "cells": [
  {
   "cell_type": "code",
   "execution_count": 2,
   "id": "17a5ea84-49cb-4a43-90c0-3b2c5d0880d7",
   "metadata": {
    "tags": []
   },
   "outputs": [],
   "source": [
    "import numpy as np\n",
    "import pandas as pd"
   ]
  },
  {
   "cell_type": "code",
   "execution_count": 126,
   "id": "68b00a6d-7977-4664-a6ae-3fe3bf1951ae",
   "metadata": {
    "tags": []
   },
   "outputs": [
    {
     "name": "stdout",
     "output_type": "stream",
     "text": [
      "<class 'pandas.core.frame.DataFrame'>\n",
      "          OD_ID ORIGIN DESTINATION  COUNT\n",
      "0     AL02_AT33   AL02        AT33    1.0\n",
      "1     AL02_NL21   AL02        NL21    2.0\n",
      "2     AL02_PL42   AL02        PL42    1.0\n",
      "3     AL02_UKH1   AL02        UKH1    1.0\n",
      "4     AL02_UKH3   AL02        UKH3    1.0\n",
      "...         ...    ...         ...    ...\n",
      "3594  UKN0_IE06   UKN0        IE06  119.0\n",
      "3595  UKN0_NL32   UKN0        NL32    1.0\n",
      "3596  UKN0_PT11   UKN0        PT11    1.0\n",
      "3597  UKN0_PT15   UKN0        PT15    1.0\n",
      "3598  UKN0_SI04   UKN0        SI04    1.0\n",
      "\n",
      "[3599 rows x 4 columns]\n"
     ]
    }
   ],
   "source": [
    "centroids = pd.read_csv(\"DGL_data/NUTS2_cents_4326.csv\", sep=',', encoding=\"latin-1\")\n",
    "testi_matkat = pd.read_csv('DGL_data/Real_data/OD_long-term_students_2015.csv', sep=',', encoding=\"utf-8\", usecols=['OD_ID','ORIGIN','DESTINATION','COUNT'])\n",
    "testi_matkat = testi_matkat.drop_duplicates(subset=['OD_ID'])\n",
    "\n",
    "print(type(testi_matkat))\n",
    "print(testi_matkat)"
   ]
  },
  {
   "cell_type": "code",
   "execution_count": 137,
   "id": "5c5e9613-9fc5-47eb-a427-4db3bb12f902",
   "metadata": {
    "tags": []
   },
   "outputs": [
    {
     "name": "stdout",
     "output_type": "stream",
     "text": [
      "<class 'pandas.core.frame.DataFrame'>\n",
      "        OD_ID ORIGIN DESTINATION  COUNT\n",
      "0   FI19_DE11   FI19        DE11    3.0\n",
      "1   FI19_DE21   FI19        DE21    2.0\n",
      "2   FI19_DE25   FI19        DE25    1.0\n",
      "3   FI19_DE30   FI19        DE30    1.0\n",
      "4   FI19_DE50   FI19        DE50    1.0\n",
      "5   FI19_DE71   FI19        DE71    1.0\n",
      "6   FI19_DE91   FI19        DE91    2.0\n",
      "7   FI19_DEA2   FI19        DEA2    4.0\n",
      "8   FI19_DEB2   FI19        DEB2    1.0\n",
      "9   FI19_FR10   FI19        FR10    1.0\n",
      "10  FI19_ITI3   FI19        ITI3    1.0\n",
      "11  FI19_RO11   FI19        RO11    1.0\n",
      "12  FI1B_DE11   FI1B        DE11    1.0\n",
      "13  FI1B_DE21   FI1B        DE21    1.0\n",
      "14  FI1B_DE30   FI1B        DE30    2.0\n",
      "15  FI1B_DE71   FI1B        DE71    5.0\n",
      "16  FI1B_DE91   FI1B        DE91    1.0\n",
      "17  FI1B_DEE0   FI1B        DEE0    1.0\n",
      "18  FI1B_IS00   FI1B        IS00    1.0\n",
      "19  FI1B_ITI4   FI1B        ITI4    1.0\n",
      "20  FI1B_NL41   FI1B        NL41    1.0\n",
      "21  FI1B_PL91   FI1B        PL91    1.0\n",
      "22  FI1B_SE11   FI1B        SE11    2.0\n",
      "23  FI1B_TR51   FI1B        TR51    1.0\n",
      "24  FI1B_UKC2   FI1B        UKC2    1.0\n",
      "25  FI1B_UKD3   FI1B        UKD3    1.0\n",
      "26  FI1C_AT12   FI1C        AT12    1.0\n",
      "27  FI1C_DE12   FI1C        DE12    1.0\n",
      "28  FI1C_DE13   FI1C        DE13    1.0\n",
      "29  FI1C_DE21   FI1C        DE21    2.0\n",
      "30  FI1C_DE25   FI1C        DE25    1.0\n",
      "31  FI1C_DE27   FI1C        DE27    6.0\n",
      "32  FI1C_DE71   FI1C        DE71    1.0\n",
      "33  FI1C_DEA4   FI1C        DEA4    1.0\n",
      "34  FI1C_DEG0   FI1C        DEG0    3.0\n",
      "35  FI1C_ES11   FI1C        ES11    1.0\n",
      "36  FI1C_ITC3   FI1C        ITC3    1.0\n",
      "37  FI1C_UKC2   FI1C        UKC2    1.0\n",
      "38  FI1D_DE27   FI1D        DE27    2.0\n",
      "39  FI1D_DE71   FI1D        DE71    1.0\n",
      "40  FI1D_ES51   FI1D        ES51    1.0\n",
      "41  FI1D_FRH0   FI1D        FRH0    1.0\n",
      "42  FI1D_IE04   FI1D        IE04    1.0\n",
      "43  FI1D_LU00   FI1D        LU00    1.0\n",
      "44  FI1D_PT11   FI1D        PT11    1.0\n"
     ]
    }
   ],
   "source": [
    "testi_matkat_FI = testi_matkat[testi_matkat['ORIGIN'].str.contains('FI')]\n",
    "testi_matkat_FI = testi_matkat_FI.reset_index(drop=True)\n",
    "print(type(testi_matkat_FI))\n",
    "print(testi_matkat_FI)"
   ]
  },
  {
   "cell_type": "code",
   "execution_count": 128,
   "id": "c1c4ab54-5565-4077-a66c-25ae653f78e5",
   "metadata": {
    "tags": []
   },
   "outputs": [],
   "source": [
    "def split(points, smoothing):\n",
    "    p = points\n",
    "    # for each level of smoothing, insert new control point in the middle of all points already in the array\n",
    "    # loop starts from 1 => smoothing level of 1 keeps only node points\n",
    "    for smooth in range(1, smoothing):\n",
    "        new_points = []\n",
    "        for i in range(len(p) - 1):\n",
    "            new_point = np.divide(p[i] + p[i + 1], 2.0)\n",
    "            new_points.append(p[i])\n",
    "            new_points.append(new_point)\n",
    "        new_points.append(p[-1])\n",
    "        p = new_points\n",
    "    return p"
   ]
  },
  {
   "cell_type": "code",
   "execution_count": 143,
   "id": "72b2839b-b109-400a-9f4b-1c6324843b41",
   "metadata": {
    "tags": []
   },
   "outputs": [],
   "source": [
    "def get(source, dest, nodes, path, smoothing):\n",
    "    control_points = []\n",
    "    current_node = source\n",
    "    for edge_in_path in path:\n",
    "        control_points.append(np.array([current_node.longitude, current_node.latitude]))\n",
    "\n",
    "        other_node_id = edge_in_path.destination if edge_in_path.source == current_node.id else edge_in_path.source\n",
    "        current_node = nodes[other_node_id]\n",
    "    \n",
    "    control_points.append(np.array([dest.longitude, dest.latitude]))\n",
    "    return split(control_points, smoothing)"
   ]
  },
  {
   "cell_type": "markdown",
   "id": "e7e5ce00-d7c8-4f64-a152-05e42f131323",
   "metadata": {},
   "source": [
    "IDs.PY"
   ]
  },
  {
   "cell_type": "code",
   "execution_count": 130,
   "id": "04000dad-764d-446b-9410-2f563d0519e2",
   "metadata": {
    "tags": []
   },
   "outputs": [],
   "source": [
    "def create_ids(dataframe):\n",
    "        \n",
    "    # Create a object of unique locations (union of ORIGIN and DESTINATION)\n",
    "    #unique_locations = dataframe['orig_nuts'].append(dataframe['dest_nuts']).unique()\n",
    "    unique_locations = dataframe.drop_duplicates(subset=['NUTS_ID'])\n",
    "\n",
    "    # Create a mapping between unique locations and consecutive integers\n",
    "    location_mapping = dict(zip(unique_locations['NUTS_ID'], range(1, len(unique_locations) + 1)))\n",
    "\n",
    "    # Map source and destination ids to consecutive integers\n",
    "    #dataframe['source_id'] = dataframe['orig_nuts'].map(location_mapping)\n",
    "    #dataframe['destination_id'] = dataframe['dest_nuts'].map(location_mapping)\n",
    "    \n",
    "    return location_mapping"
   ]
  },
  {
   "cell_type": "markdown",
   "id": "388940aa-d14e-4bed-8fa0-4ff3aba2b8ab",
   "metadata": {},
   "source": [
    "MODEL.PY"
   ]
  },
  {
   "cell_type": "code",
   "execution_count": 131,
   "id": "6b5c19ab-9c87-4bbc-b766-81bbea0d6386",
   "metadata": {
    "tags": []
   },
   "outputs": [],
   "source": [
    "import math\n",
    "\n",
    "class Edge:\n",
    "\n",
    "    def __init__(self, source, destination, od_id, count):\n",
    "        self.source = source\n",
    "        self.destination = destination\n",
    "        self.od_id = od_id\n",
    "        self.count = count\n",
    "        self.distance = -1\n",
    "        self.weight = -1\n",
    "        self.skip = False\n",
    "        self.lock = False\n",
    "\n",
    "\n",
    "class Node:\n",
    "\n",
    "    def __init__(self, id, longitude, latitude, name):\n",
    "        self.id = id\n",
    "        self.longitude = longitude\n",
    "        self.latitude = latitude\n",
    "        self.name = name\n",
    "        self.edges = []\n",
    "\n",
    "        # dijkstra related attributes\n",
    "        self.distance = -1\n",
    "        self.visited = False\n",
    "        self.previous = None\n",
    "        self.previous_edge = None\n",
    "\n",
    "    def distance_to(self, other) -> float:\n",
    "        return math.sqrt(pow(other.longitude - self.longitude, 2) + pow(other.latitude - self.latitude, 2))\n",
    "\n",
    "    def __lt__(self, other):\n",
    "        return self.id < other.id\n",
    "\n",
    "    def __gt__(self, other):\n",
    "        return self.id > other.id\n",
    "\n",
    "    def __le__(self, other):\n",
    "        return self.id <= other.id\n",
    "\n",
    "    def __ge__(self, other):\n",
    "        return self.id >= other.id"
   ]
  },
  {
   "cell_type": "markdown",
   "id": "af4d6231-772d-4b9c-a882-348d5c7ecd88",
   "metadata": {},
   "source": [
    "LOCATIONS.PY"
   ]
  },
  {
   "cell_type": "code",
   "execution_count": 139,
   "id": "32ef0da2-098f-4b09-9e81-dd0a81286598",
   "metadata": {
    "tags": []
   },
   "outputs": [],
   "source": [
    "def get_locations_data(d):\n",
    "    # Load data into dataframes\n",
    "    nodes_list = centroids\n",
    "    edges_list = testi_matkat_FI\n",
    "\n",
    "    nodes = {}\n",
    "    edges = []\n",
    "    \n",
    "    #nodes_list['id'] = nodes_list.reset_index().index + 1 \n",
    "    node_ids = create_ids(nodes_list)\n",
    "\n",
    "    # Load nodes into dict. Maps ID -> Node instance\n",
    "    for index, row in nodes_list.iterrows():\n",
    "        idx = node_ids[row['NUTS_ID']]\n",
    "        name = row['NUTS_ID']\n",
    "        lat = row['Y']\n",
    "        long = row['X']\n",
    "        nodes[idx] = Node(idx, long, lat, name)\n",
    "\n",
    "    # Load edges to list\n",
    "    for index, row in edges_list.iterrows():\n",
    "        so = node_ids[row['ORIGIN']]\n",
    "        dest = node_ids[row['DESTINATION']]\n",
    "        od_id = row['OD_ID']\n",
    "        count = row['COUNT']\n",
    "        edges.append(Edge(source=so, destination=dest, od_id=od_id, count=count))\n",
    "    \n",
    "    # set iterator for edge removal\n",
    "    calc_r = 0\n",
    "\n",
    "    # Assign edges to nodes\n",
    "    for edge in edges:\n",
    "\n",
    "        # eliminate edges without nodes\n",
    "        if edge.destination not in nodes or edge.source not in nodes:\n",
    "            calc_r += 1\n",
    "            edges.remove(edge)\n",
    "\n",
    "        source = nodes[edge.source]\n",
    "        dest = nodes[edge.destination]\n",
    "        distance = source.distance_to(dest)\n",
    "\n",
    "        edge.distance = distance\n",
    "        edge.weight = pow(distance, d)\n",
    "\n",
    "        source.edges.append(edge)\n",
    "        dest.edges.append(edge)\n",
    "    \n",
    "    # print removed edges\n",
    "    print('Total number of edges removed: ' + str(calc_r))\n",
    "\n",
    "    # iterator for removed nodes\n",
    "    calc_n = 0\n",
    "    \n",
    "    # Eliminate nodes without edges\n",
    "    to_remove = [node.id for node in nodes.values() if len(node.edges) == 0]\n",
    "    for key in to_remove:\n",
    "        calc_n += 1\n",
    "        del nodes[key]\n",
    "    \n",
    "    # print removed node count\n",
    "    print('Nodes removed: '+str(calc_n))\n",
    "    \n",
    "    # print nodes values\n",
    "    print(nodes.values())\n",
    "\n",
    "    # Sort edges inside nodes in ascending order\n",
    "    for node in nodes.values():\n",
    "        node.edges.sort(key=lambda x: x.distance)\n",
    "\n",
    "    # Sort edges\n",
    "    edges.sort(key=lambda x: x.weight, reverse=True)\n",
    "    print(edges[0].source)\n",
    "    print(edges[0].destination)\n",
    "    print(edges[0].od_id)\n",
    "    print('Origin node name: ' + str(nodes[edges[0].source].name) + ' , origin node id: ' + str(nodes[edges[0].source].id) + '\\nDestination node name: ' + str(nodes[edges[0].destination].name) + ', dest origin id: ' + str(nodes[edges[0].destination].id))\n",
    "    return nodes, edges\n",
    "\n",
    "    # Save csv with created id \n",
    "    #edges_list.to_csv('DGL_data/OD_LT_student_aggre_4326_with_IDs.csv', index= False)"
   ]
  },
  {
   "cell_type": "code",
   "execution_count": 84,
   "id": "e21ab500-dafb-4f1b-b786-b6a627341694",
   "metadata": {
    "tags": []
   },
   "outputs": [
    {
     "name": "stdout",
     "output_type": "stream",
     "text": [
      "Total number of edges removed: 0\n",
      "Nodes removed: 277\n",
      "dict_values([<__main__.Node object at 0x00000230042CDF70>, <__main__.Node object at 0x00000230042CD850>, <__main__.Node object at 0x000002300454A340>, <__main__.Node object at 0x000002300454AD00>, <__main__.Node object at 0x000002300B13F970>, <__main__.Node object at 0x000002300B13F550>, <__main__.Node object at 0x000002300B13FEE0>, <__main__.Node object at 0x000002300B13FC70>, <__main__.Node object at 0x000002300B13FF10>, <__main__.Node object at 0x000002300B13FE80>, <__main__.Node object at 0x000002300B13FA90>, <__main__.Node object at 0x000002300B18C160>, <__main__.Node object at 0x000002300B18C190>, <__main__.Node object at 0x000002300B18C250>, <__main__.Node object at 0x000002300B18C0D0>, <__main__.Node object at 0x000002300B18C760>, <__main__.Node object at 0x000002300B18C040>, <__main__.Node object at 0x000002300B18C490>, <__main__.Node object at 0x000002300B18C550>, <__main__.Node object at 0x000002300B18C580>, <__main__.Node object at 0x000002300B18C610>, <__main__.Node object at 0x000002300B18C370>, <__main__.Node object at 0x000002300B18C8E0>, <__main__.Node object at 0x000002300B18CB20>, <__main__.Node object at 0x000002300B18C850>, <__main__.Node object at 0x000002300B18CAF0>, <__main__.Node object at 0x000002300B18CD60>, <__main__.Node object at 0x00000230095F77C0>, <__main__.Node object at 0x00000230096287F0>, <__main__.Node object at 0x0000023009628850>, <__main__.Node object at 0x000002300B17A2B0>, <__main__.Node object at 0x000002300B17A460>, <__main__.Node object at 0x000002300B17A6A0>, <__main__.Node object at 0x000002300B17AA90>, <__main__.Node object at 0x000002300B17AB50>, <__main__.Node object at 0x000002300B17AD60>, <__main__.Node object at 0x000002300B17ADC0>, <__main__.Node object at 0x000002300B17AE50>, <__main__.Node object at 0x000002300B17AE80>, <__main__.Node object at 0x000002300B18F160>, <__main__.Node object at 0x000002300B18F3D0>, <__main__.Node object at 0x000002300B18F6A0>, <__main__.Node object at 0x000002300B18F910>, <__main__.Node object at 0x000002300B18FA90>, <__main__.Node object at 0x000002300B18F940>, <__main__.Node object at 0x000002300B18FB80>, <__main__.Node object at 0x000002300B18FF10>, <__main__.Node object at 0x000002300B18FF70>, <__main__.Node object at 0x000002300B188040>, <__main__.Node object at 0x000002300B1880D0>, <__main__.Node object at 0x000002300B188100>, <__main__.Node object at 0x000002300B188130>, <__main__.Node object at 0x000002300B188160>, <__main__.Node object at 0x000002300B1881F0>, <__main__.Node object at 0x000002300B188430>, <__main__.Node object at 0x000002300B188520>, <__main__.Node object at 0x000002300B188550>])\n",
      "59\n",
      "280\n",
      "BE10_TR10\n",
      "Origin node name: BE10 , origin node id: 59\n",
      "Destination node name: TR10, dest origin id: 280\n"
     ]
    }
   ],
   "source": [
    "d = 2.0\n",
    "centroids, testi_matkat = get_locations_data(d)"
   ]
  },
  {
   "cell_type": "markdown",
   "id": "7534d95d-4d3f-418e-8471-80ea3abe4534",
   "metadata": {},
   "source": [
    "DIJKSTRA.PY"
   ]
  },
  {
   "cell_type": "code",
   "execution_count": 133,
   "id": "2a701338-088f-472d-a2cf-f0226c0ab233",
   "metadata": {
    "tags": []
   },
   "outputs": [],
   "source": [
    "from typing import List\n",
    "import heapq\n",
    "\n",
    "\n",
    "def find_shortest_path(source: Node, dest: Node, nodes) -> List[Edge]:\n",
    "    # reset nodes\n",
    "    for node in nodes.values():\n",
    "        node.distance = 99999999999999\n",
    "        node.visited = False\n",
    "        node.previous = None\n",
    "        node.previous_edge = None\n",
    "\n",
    "    source.distance = 0\n",
    "    queue = []\n",
    "    heapq.heappush(queue, (source.distance, source))\n",
    "\n",
    "    while not len(queue) == 0:\n",
    "        next_node = heapq.heappop(queue)[1]\n",
    "        next_node.visited = True\n",
    "\n",
    "        for edge in next_node.edges:\n",
    "            if edge.skip:\n",
    "                continue\n",
    "\n",
    "            other_id = edge.destination if edge.source == next_node.id else edge.source\n",
    "            other = nodes[other_id]\n",
    "\n",
    "            current_distance = next_node.distance + edge.weight\n",
    "\n",
    "            if current_distance < other.distance:\n",
    "                other.distance = current_distance\n",
    "                other.previous = next_node\n",
    "                other.previous_edge = edge\n",
    "                heapq.heappush(queue, (other.distance, other))\n",
    "\n",
    "        # Already found the destination, no need to continue with the search\n",
    "        if next_node == dest:\n",
    "            break\n",
    "\n",
    "    # extract path\n",
    "    path = []\n",
    "\n",
    "    node = dest\n",
    "    while node.previous is not None:\n",
    "        path.append(node.previous_edge)\n",
    "        node = node.previous\n",
    "\n",
    "    path.reverse()\n",
    "    return path"
   ]
  },
  {
   "cell_type": "markdown",
   "id": "4534f583-d2f0-4600-aadc-f0c04ea43c43",
   "metadata": {},
   "source": [
    "BEZIER.PY"
   ]
  },
  {
   "cell_type": "code",
   "execution_count": 134,
   "id": "d2816efc-3dcb-4275-b683-7f4b12dbc2eb",
   "metadata": {
    "tags": []
   },
   "outputs": [],
   "source": [
    "import numpy as np\n",
    "import math\n",
    "from numba import jit\n",
    "\n",
    "\n",
    "# arguments: list of 2D-np.array, float\n",
    "# return list\n",
    "# Check if we have enough control points\n",
    "@jit(nopython=True)\n",
    "def eval_bezier(control_points, t):\n",
    "\n",
    "    if len(control_points) < 2:\n",
    "        return np.zeros(2)\n",
    "\n",
    "    if t < 0 or t > 1:\n",
    "        return np.zeros(2)\n",
    "    if t == 0:\n",
    "        return control_points[0]\n",
    "    if t == 1:\n",
    "        return control_points[-1]\n",
    "\n",
    "    # Calculate the intermediate points\n",
    "    points = control_points\n",
    "    while len(points) > 1:\n",
    "        intermediate_points = []\n",
    "        for i in range(len(points)-1):\n",
    "            p = (1 - t) * points[i] + t * points[i+1]\n",
    "            intermediate_points.append(p)\n",
    "        points = intermediate_points\n",
    "    return points[0]\n",
    "\n",
    "\n",
    "# n = number of points to approximate curve\n",
    "# arguments: list of 2d-np.arrays , int\n",
    "# returns: list of 2d np.arrays (points) on the bezier curve\n",
    "@jit(nopython=True)\n",
    "def create_bezier_polygon(control_points, n):\n",
    "\n",
    "    if n < 2:\n",
    "        return [control_points[0], control_points[-1]]\n",
    "    points = []\n",
    "    for i in range(n):\n",
    "        points.append(eval_bezier(control_points, i/n))\n",
    "    points.append(control_points[-1])\n",
    "    return points"
   ]
  },
  {
   "cell_type": "markdown",
   "id": "aa5f90d9-2976-45ff-890f-4ad1966771ff",
   "metadata": {},
   "source": [
    "DRAW.PY"
   ]
  },
  {
   "cell_type": "code",
   "execution_count": 135,
   "id": "58ed7b8a-3b2d-402a-9dc9-7de6aba0bd2b",
   "metadata": {
    "tags": []
   },
   "outputs": [],
   "source": [
    "import matplotlib.pyplot as plt\n",
    "import geopandas as gpd\n",
    "import pandas as pd\n",
    "\n",
    "#from bezier import bezierSpherical\n",
    "from tqdm import tqdm\n",
    "from shapely.geometry import Point, LineString\n",
    "#from bezier import bezier as bz\n",
    "\n",
    "\n",
    "def draw(control_points, nodes, edges, n, use_3d, draw_map, output_option):\n",
    "\n",
    "    if draw_map:\n",
    "        nodes_list = centroids\n",
    "        #map_2 = gpd.read_file('DGL_data/NUTS2_2021_4326/NUTS2_4326.shp')\n",
    "        geometry = [Point(xy) for xy in zip(nodes_list['X'], nodes_list['Y'])]\n",
    "        original_routes = gpd.read_file('DGL_data/Real_data/OD_long-term_students_2015.csv', sep=',', encoding=\"utf-8\", usecols=['OD_ID','ORIGIN','DESTINATION','COUNT'])\n",
    "        \n",
    "        #nodes_list = create_ids(nodes_list) \n",
    "\n",
    "        geo_df = gpd.GeoDataFrame(nodes_list, crs='epsg:4326', geometry=geometry)\n",
    "        #testaan miltä näyttää koordinaatit orig/dest-sovitusta varten 1\n",
    "        print('\\nNODE_LIST ALKU \\n',geo_df.head())\n",
    "        \n",
    "\n",
    "        #fig, ax = plt.subplots(figsize=(50, 25))\n",
    "        #map.plot(ax=ax, alpha=0.4, color='grey')\n",
    "        #geo_df.plot(ax=ax, markersize=1)\n",
    "    else:\n",
    "        plt.gcf().set_dpi(300)\n",
    "\n",
    "    if use_3d: #meillä ei käyttöä\n",
    "        n = -1\n",
    "        step_size = 5\n",
    "        #bezierSpherical.plot_spherical(control_points, nodes, edges, n, step_size)\n",
    "    else:\n",
    "        # create and bezier curves\n",
    "        bezier_polygons = []\n",
    "        for controlPoints in tqdm(control_points, desc=\"Drawing curves: \"):\n",
    "            polygon = create_bezier_polygon(controlPoints, n)  # returns list of 2d vectors\n",
    "            bezier_polygons.append(polygon)\n",
    "            x = [arr[0] for arr in polygon]\n",
    "            y = [arr[1] for arr in polygon]\n",
    "            #plt.plot(x, y, color='red', linewidth=0.1, alpha=1)\n",
    "        print('\\nPRINTING 1. BEZIER \\n', bezier_polygons[0])\n",
    "        \n",
    "        # create a list for the first and last points of each bezier line\n",
    "        cp_list = [] #lista 1. ja vika control_points\n",
    "        for poly in bezier_polygons:\n",
    "            cp_list.append(np.array([poly[0], poly[-1]]))\n",
    "                           \n",
    "        print('\\nCONTROL POINTS LISTAN 1. \\n', cp_list[0])\n",
    "        \n",
    "        # create a dataframe from control points to create origin and destination coordinate points\n",
    "        cp_df = pd.DataFrame(columns=['orig', 'dest'])\n",
    "        for cp in cp_list:\n",
    "            cp_df = cp_df.append({'orig': cp[0], 'dest': cp[1]}, ignore_index=True)\n",
    "        # adding an index column to the OD dataframe\n",
    "        cp_df['id'] = cp_df.index\n",
    "        \n",
    "        print('\\nBEZIER OD_DF HEAD \\n', cp_df.head())\n",
    "        \n",
    "        # adding orig_nuts and dest_nuts ID's for control_points for later on happening join\n",
    "        for index, poly in cp_df.iterrows():\n",
    "            for _, centroid in geo_df.iterrows():\n",
    "                if (poly['orig'][0] == centroid['X']) and (poly['orig'][1] == centroid['Y']):\n",
    "                    cp_df.at[index, 'orig_nuts'] = centroid['NUTS_ID']\n",
    "\n",
    "        for index, poly in cp_df.iterrows():\n",
    "            for _, centroid in geo_df.iterrows():\n",
    "                if (poly['dest'][0] == centroid['X']) and (poly['dest'][1] == centroid['Y']):\n",
    "                    cp_df.at[index, 'dest_nuts'] = centroid['NUTS_ID']\n",
    "                \n",
    "        print('\\nBEZIER OD_DF HEAD AFTER NUTS_ID JOIN \\n', cp_df.head())\n",
    "        \n",
    "        # create list of bezier linestrings\n",
    "        lines = []\n",
    "        for poly in bezier_polygons:\n",
    "            a = LineString(poly)\n",
    "            lines.append(a)\n",
    "\n",
    "        # create dataframe and geodataframe for bezier lines\n",
    "        lines_df = pd.DataFrame(lines, columns=['geometry'])\n",
    "        \n",
    "        lines_gdf = gpd.GeoDataFrame(lines_df, crs='epsg:4326', geometry='geometry')\n",
    "        # adding an index column to the lines dataframe\n",
    "        lines_gdf['id'] = lines_gdf.index\n",
    "        \n",
    "        # merging orig_nuts and dest_nuts to lines_gdf\n",
    "        merged_lines_gdf = lines_gdf.merge(cp_df[['id','orig_nuts','dest_nuts']], on='id', how='left')\n",
    "        \n",
    "        # generate od ids\n",
    "        merged_lines_gdf['OD_ID'] = merged_lines_gdf['orig_nuts'] + '_' + merged_lines_gdf['dest_nuts']\n",
    "        \n",
    "        # join original count data based on od_id\n",
    "        merged_counts = merged_lines_gdf.merge(original_routes[['OD_ID','COUNT']], on=['OD_ID'], how='left')\n",
    "        \n",
    "        merged_counts['COUNT'] = merged_counts['COUNT'].astype(int)\n",
    "\n",
    "        #testaan miltä näyttää koordinaatit orig/dest-sovitusta varten 2\n",
    "        print('\\nPRINTING lines_gdf HEAD \\n',merged_counts.head())\n",
    "        \n",
    "        # empty list for dataframes\n",
    "        straight_edges = []\n",
    "\n",
    "        # draw lines without detour or with detour that was too long\n",
    "        for edge in tqdm(edges, desc=\"Drawing lines: \"):\n",
    "            if edge.skip:\n",
    "                continue\n",
    "            \n",
    "            # get nodes\n",
    "            o = nodes[edge.source]\n",
    "            d = nodes[edge.destination]\n",
    "            \n",
    "            # get names of nodes\n",
    "            o_name = o.name\n",
    "            d_name = d.name\n",
    "                        \n",
    "            # get count of flow for edge connecting the nodes\n",
    "            count = edge.count\n",
    "\n",
    "            # generate geometry for the edge\n",
    "            line = LineString([Point([o.longitude, o.latitude]), Point([d.longitude, d.latitude])])\n",
    "            \n",
    "            # old lat lon stuff\n",
    "            x = [o.longitude, d.longitude]\n",
    "            y = [o.latitude, d.latitude]\n",
    "            \n",
    "            # create dataframe\n",
    "            straight_df = pd.DataFrame(columns=['orig_nuts', 'dest_nuts', 'OD_ID', 'COUNT', 'geometry'])\n",
    "            \n",
    "            # add row\n",
    "            straight_df = straight_df.append({'orig_nuts': o_name,\n",
    "                                              'dest_nuts': d_name,\n",
    "                                              'OD_ID': o_name + '_' + d_name,\n",
    "                                              'COUNT': count,\n",
    "                                              'geometry': line}, ignore_index=True)\n",
    "                    \n",
    "            # add to list\n",
    "            straight_edges.append(straight_df)\n",
    "            \n",
    "            #plt.plot(x, y, color='red', linewidth=0.1, alpha=1)\n",
    "        \n",
    "      \n",
    "        # concatenate list to dataframe\n",
    "        straights = pd.concat(straight_edges)\n",
    "        \n",
    "        # add orig and dest nuts\n",
    "        straights['orig_nuts'] = straights['OD_ID'].apply(lambda x: x.split('_')[0])\n",
    "        straights['dest_nuts'] = straights['OD_ID'].apply(lambda x: x.split('_')[1])\n",
    "        \n",
    "        # create geodataframe of straight lines\n",
    "        straights = gpd.GeoDataFrame(straights, crs='epsg:4326', geometry='geometry')\n",
    "        \n",
    "        #testaan miltä näyttää koordinaatit orig/dest-sovitusta varten 2\n",
    "        print('\\nPRINTING straights head \\n',straights.head(n=2))\n",
    "        \n",
    "        # get results\n",
    "        results = merged_counts.append(straights, ignore_index=True)\n",
    "        \n",
    "        # choose file output options\n",
    "        if output_option == 1:\n",
    "            results.to_file('Test_lines/Filter_test_FI_LT.shp')\n",
    "            \n",
    "        elif output_option == 2:\n",
    "            straights.to_file('Real_results_lines/2015_straight_lines_LT.shp')\n",
    "            merged_counts.to_file('Real_results_lines/2015_Bezier_LT.shp')\n",
    "            \n",
    "        elif output_option == 3:\n",
    "            results.to_file('Real_results_lines/2015_straights_AND_bezier_LT.shp')\n",
    "            straights.to_file('Real_results_lines/2015_straight_lines_LT.shp')\n",
    "            merged_counts.to_file('Real_results_lines/2015_Bezier_LT.shp')\n",
    "        \n",
    "            \n",
    "        \n",
    "\n",
    "    #plt.axis('scaled')\n",
    "    #plt.axis('off')\n",
    "    #plt.tight_layout()\n",
    "    #plt.show()"
   ]
  },
  {
   "cell_type": "markdown",
   "id": "8e71db5a-7975-4aa5-a7ad-95134793f8ef",
   "metadata": {},
   "source": [
    "MAIN.PY"
   ]
  },
  {
   "cell_type": "code",
   "execution_count": 144,
   "id": "f2f389d3-6d73-493c-83c3-e09350e0f671",
   "metadata": {
    "tags": []
   },
   "outputs": [
    {
     "name": "stdout",
     "output_type": "stream",
     "text": [
      "Total number of edges removed: 0\n",
      "Nodes removed: 296\n",
      "dict_values([<__main__.Node object at 0x000002300FBE3730>, <__main__.Node object at 0x000002300FBE3700>, <__main__.Node object at 0x000002300FBE3760>, <__main__.Node object at 0x000002300FBE37C0>, <__main__.Node object at 0x000002300FBE3880>, <__main__.Node object at 0x000002300FBE38B0>, <__main__.Node object at 0x000002300FBE38E0>, <__main__.Node object at 0x000002300FBE3A00>, <__main__.Node object at 0x000002300FBE3A60>, <__main__.Node object at 0x000002300FBE3DF0>, <__main__.Node object at 0x000002300FBE3AC0>, <__main__.Node object at 0x000002300FBE3BB0>, <__main__.Node object at 0x000002300FBE3FD0>, <__main__.Node object at 0x000002300FBFC070>, <__main__.Node object at 0x000002300FBFC490>, <__main__.Node object at 0x000002300FBFC9A0>, <__main__.Node object at 0x000002300FBFC9D0>, <__main__.Node object at 0x000002300FBFCB50>, <__main__.Node object at 0x000002300FBFCBB0>, <__main__.Node object at 0x000002300FBFCC40>, <__main__.Node object at 0x000002300FBFCEB0>, <__main__.Node object at 0x000002300F775880>, <__main__.Node object at 0x000002300F775C40>, <__main__.Node object at 0x000002300F775CD0>, <__main__.Node object at 0x000002300F775D60>, <__main__.Node object at 0x000002300F775FD0>, <__main__.Node object at 0x000002300F765040>, <__main__.Node object at 0x000002300F765070>, <__main__.Node object at 0x000002300F7650A0>, <__main__.Node object at 0x000002300F765100>, <__main__.Node object at 0x000002300F765220>, <__main__.Node object at 0x000002300F765280>, <__main__.Node object at 0x000002300F765460>, <__main__.Node object at 0x000002300F7654C0>, <__main__.Node object at 0x000002300F765700>, <__main__.Node object at 0x000002300F765940>, <__main__.Node object at 0x000002300F765CD0>, <__main__.Node object at 0x000002300F744190>])\n",
      "223\n",
      "206\n",
      "FI1B_IS00\n",
      "Origin node name: FI1B , origin node id: 223\n",
      "Destination node name: IS00, dest origin id: 206\n"
     ]
    },
    {
     "name": "stderr",
     "output_type": "stream",
     "text": [
      "Computing: 100%|█████████████████████████████████████████████████████████████████████| 45/45 [00:00<00:00, 6476.47it/s]"
     ]
    },
    {
     "name": "stdout",
     "output_type": "stream",
     "text": [
      "Control point lists []\n"
     ]
    },
    {
     "name": "stderr",
     "output_type": "stream",
     "text": [
      "\n"
     ]
    },
    {
     "ename": "UnicodeDecodeError",
     "evalue": "'utf-8' codec can't decode byte 0xe4 in position 80: invalid continuation byte",
     "output_type": "error",
     "traceback": [
      "\u001b[1;31m---------------------------------------------------------------------------\u001b[0m",
      "\u001b[1;31mUnicodeDecodeError\u001b[0m                        Traceback (most recent call last)",
      "\u001b[1;31mUnicodeDecodeError\u001b[0m: 'utf-8' codec can't decode byte 0xe4 in position 80: invalid continuation byte"
     ]
    },
    {
     "name": "stderr",
     "output_type": "stream",
     "text": [
      "Exception ignored in: 'fiona._env.log_error'\n",
      "Traceback (most recent call last):\n",
      "  File \"C:\\Users\\oulain\\miniconda3\\envs\\python-gis\\lib\\site-packages\\fiona\\env.py\", line 283, in defenv\n",
      "    local._env.start()\n",
      "UnicodeDecodeError: 'utf-8' codec can't decode byte 0xe4 in position 80: invalid continuation byte\n"
     ]
    },
    {
     "ename": "UnicodeDecodeError",
     "evalue": "'utf-8' codec can't decode byte 0xe4 in position 80: invalid continuation byte",
     "output_type": "error",
     "traceback": [
      "\u001b[1;31m---------------------------------------------------------------------------\u001b[0m",
      "\u001b[1;31mUnicodeDecodeError\u001b[0m                        Traceback (most recent call last)",
      "\u001b[1;31mUnicodeDecodeError\u001b[0m: 'utf-8' codec can't decode byte 0xe4 in position 80: invalid continuation byte"
     ]
    },
    {
     "name": "stderr",
     "output_type": "stream",
     "text": [
      "Exception ignored in: 'fiona._env.log_error'\n",
      "Traceback (most recent call last):\n",
      "  File \"C:\\Users\\oulain\\miniconda3\\envs\\python-gis\\lib\\site-packages\\fiona\\env.py\", line 283, in defenv\n",
      "    local._env.start()\n",
      "UnicodeDecodeError: 'utf-8' codec can't decode byte 0xe4 in position 80: invalid continuation byte\n"
     ]
    },
    {
     "ename": "UnicodeDecodeError",
     "evalue": "'utf-8' codec can't decode byte 0xe4 in position 85: invalid continuation byte",
     "output_type": "error",
     "traceback": [
      "\u001b[1;31m---------------------------------------------------------------------------\u001b[0m",
      "\u001b[1;31mUnicodeDecodeError\u001b[0m                        Traceback (most recent call last)",
      "\u001b[1;31mUnicodeDecodeError\u001b[0m: 'utf-8' codec can't decode byte 0xe4 in position 85: invalid continuation byte"
     ]
    },
    {
     "name": "stderr",
     "output_type": "stream",
     "text": [
      "Exception ignored in: 'fiona._env.log_error'\n",
      "Traceback (most recent call last):\n",
      "  File \"C:\\Users\\oulain\\miniconda3\\envs\\python-gis\\lib\\site-packages\\fiona\\env.py\", line 283, in defenv\n",
      "    local._env.start()\n",
      "UnicodeDecodeError: 'utf-8' codec can't decode byte 0xe4 in position 85: invalid continuation byte\n"
     ]
    },
    {
     "ename": "UnicodeDecodeError",
     "evalue": "'utf-8' codec can't decode byte 0xe4 in position 85: invalid continuation byte",
     "output_type": "error",
     "traceback": [
      "\u001b[1;31m---------------------------------------------------------------------------\u001b[0m",
      "\u001b[1;31mUnicodeDecodeError\u001b[0m                        Traceback (most recent call last)",
      "\u001b[1;31mUnicodeDecodeError\u001b[0m: 'utf-8' codec can't decode byte 0xe4 in position 85: invalid continuation byte"
     ]
    },
    {
     "name": "stderr",
     "output_type": "stream",
     "text": [
      "Exception ignored in: 'fiona._env.log_error'\n",
      "Traceback (most recent call last):\n",
      "  File \"C:\\Users\\oulain\\miniconda3\\envs\\python-gis\\lib\\site-packages\\fiona\\env.py\", line 283, in defenv\n",
      "    local._env.start()\n",
      "UnicodeDecodeError: 'utf-8' codec can't decode byte 0xe4 in position 85: invalid continuation byte\n"
     ]
    },
    {
     "ename": "UnicodeDecodeError",
     "evalue": "'utf-8' codec can't decode byte 0xe4 in position 76: invalid continuation byte",
     "output_type": "error",
     "traceback": [
      "\u001b[1;31m---------------------------------------------------------------------------\u001b[0m",
      "\u001b[1;31mUnicodeDecodeError\u001b[0m                        Traceback (most recent call last)",
      "\u001b[1;31mUnicodeDecodeError\u001b[0m: 'utf-8' codec can't decode byte 0xe4 in position 76: invalid continuation byte"
     ]
    },
    {
     "name": "stderr",
     "output_type": "stream",
     "text": [
      "Exception ignored in: 'fiona._env.log_error'\n",
      "Traceback (most recent call last):\n",
      "  File \"C:\\Users\\oulain\\miniconda3\\envs\\python-gis\\lib\\site-packages\\fiona\\env.py\", line 283, in defenv\n",
      "    local._env.start()\n",
      "UnicodeDecodeError: 'utf-8' codec can't decode byte 0xe4 in position 76: invalid continuation byte\n"
     ]
    },
    {
     "ename": "UnicodeDecodeError",
     "evalue": "'utf-8' codec can't decode byte 0xe4 in position 76: invalid continuation byte",
     "output_type": "error",
     "traceback": [
      "\u001b[1;31m---------------------------------------------------------------------------\u001b[0m",
      "\u001b[1;31mUnicodeDecodeError\u001b[0m                        Traceback (most recent call last)",
      "\u001b[1;31mUnicodeDecodeError\u001b[0m: 'utf-8' codec can't decode byte 0xe4 in position 76: invalid continuation byte"
     ]
    },
    {
     "name": "stderr",
     "output_type": "stream",
     "text": [
      "Exception ignored in: 'fiona._env.log_error'\n",
      "Traceback (most recent call last):\n",
      "  File \"C:\\Users\\oulain\\miniconda3\\envs\\python-gis\\lib\\site-packages\\fiona\\env.py\", line 283, in defenv\n",
      "    local._env.start()\n",
      "UnicodeDecodeError: 'utf-8' codec can't decode byte 0xe4 in position 76: invalid continuation byte\n"
     ]
    },
    {
     "ename": "UnicodeDecodeError",
     "evalue": "'utf-8' codec can't decode byte 0xe4 in position 75: invalid continuation byte",
     "output_type": "error",
     "traceback": [
      "\u001b[1;31m---------------------------------------------------------------------------\u001b[0m",
      "\u001b[1;31mUnicodeDecodeError\u001b[0m                        Traceback (most recent call last)",
      "\u001b[1;31mUnicodeDecodeError\u001b[0m: 'utf-8' codec can't decode byte 0xe4 in position 75: invalid continuation byte"
     ]
    },
    {
     "name": "stderr",
     "output_type": "stream",
     "text": [
      "Exception ignored in: 'fiona._env.log_error'\n",
      "Traceback (most recent call last):\n",
      "  File \"C:\\Users\\oulain\\miniconda3\\envs\\python-gis\\lib\\site-packages\\fiona\\env.py\", line 283, in defenv\n",
      "    local._env.start()\n",
      "UnicodeDecodeError: 'utf-8' codec can't decode byte 0xe4 in position 75: invalid continuation byte\n"
     ]
    },
    {
     "ename": "UnicodeDecodeError",
     "evalue": "'utf-8' codec can't decode byte 0xe4 in position 75: invalid continuation byte",
     "output_type": "error",
     "traceback": [
      "\u001b[1;31m---------------------------------------------------------------------------\u001b[0m",
      "\u001b[1;31mUnicodeDecodeError\u001b[0m                        Traceback (most recent call last)",
      "\u001b[1;31mUnicodeDecodeError\u001b[0m: 'utf-8' codec can't decode byte 0xe4 in position 75: invalid continuation byte"
     ]
    },
    {
     "name": "stderr",
     "output_type": "stream",
     "text": [
      "Exception ignored in: 'fiona._env.log_error'\n",
      "Traceback (most recent call last):\n",
      "  File \"C:\\Users\\oulain\\miniconda3\\envs\\python-gis\\lib\\site-packages\\fiona\\env.py\", line 283, in defenv\n",
      "    local._env.start()\n",
      "UnicodeDecodeError: 'utf-8' codec can't decode byte 0xe4 in position 75: invalid continuation byte\n"
     ]
    },
    {
     "ename": "UnicodeDecodeError",
     "evalue": "'utf-8' codec can't decode byte 0xe4 in position 80: invalid continuation byte",
     "output_type": "error",
     "traceback": [
      "\u001b[1;31m---------------------------------------------------------------------------\u001b[0m",
      "\u001b[1;31mUnicodeDecodeError\u001b[0m                        Traceback (most recent call last)",
      "\u001b[1;31mUnicodeDecodeError\u001b[0m: 'utf-8' codec can't decode byte 0xe4 in position 80: invalid continuation byte"
     ]
    },
    {
     "name": "stderr",
     "output_type": "stream",
     "text": [
      "Exception ignored in: 'fiona._env.log_error'\n",
      "Traceback (most recent call last):\n",
      "  File \"C:\\Users\\oulain\\miniconda3\\envs\\python-gis\\lib\\site-packages\\fiona\\env.py\", line 283, in defenv\n",
      "    local._env.start()\n",
      "UnicodeDecodeError: 'utf-8' codec can't decode byte 0xe4 in position 80: invalid continuation byte\n"
     ]
    },
    {
     "ename": "UnicodeDecodeError",
     "evalue": "'utf-8' codec can't decode byte 0xe4 in position 80: invalid continuation byte",
     "output_type": "error",
     "traceback": [
      "\u001b[1;31m---------------------------------------------------------------------------\u001b[0m",
      "\u001b[1;31mUnicodeDecodeError\u001b[0m                        Traceback (most recent call last)",
      "\u001b[1;31mUnicodeDecodeError\u001b[0m: 'utf-8' codec can't decode byte 0xe4 in position 80: invalid continuation byte"
     ]
    },
    {
     "name": "stderr",
     "output_type": "stream",
     "text": [
      "Exception ignored in: 'fiona._env.log_error'\n",
      "Traceback (most recent call last):\n",
      "  File \"C:\\Users\\oulain\\miniconda3\\envs\\python-gis\\lib\\site-packages\\fiona\\env.py\", line 283, in defenv\n",
      "    local._env.start()\n",
      "UnicodeDecodeError: 'utf-8' codec can't decode byte 0xe4 in position 80: invalid continuation byte\n"
     ]
    },
    {
     "ename": "UnicodeDecodeError",
     "evalue": "'utf-8' codec can't decode byte 0xe4 in position 85: invalid continuation byte",
     "output_type": "error",
     "traceback": [
      "\u001b[1;31m---------------------------------------------------------------------------\u001b[0m",
      "\u001b[1;31mUnicodeDecodeError\u001b[0m                        Traceback (most recent call last)",
      "\u001b[1;31mUnicodeDecodeError\u001b[0m: 'utf-8' codec can't decode byte 0xe4 in position 85: invalid continuation byte"
     ]
    },
    {
     "name": "stderr",
     "output_type": "stream",
     "text": [
      "Exception ignored in: 'fiona._env.log_error'\n",
      "Traceback (most recent call last):\n",
      "  File \"C:\\Users\\oulain\\miniconda3\\envs\\python-gis\\lib\\site-packages\\fiona\\env.py\", line 283, in defenv\n",
      "    local._env.start()\n",
      "UnicodeDecodeError: 'utf-8' codec can't decode byte 0xe4 in position 85: invalid continuation byte\n"
     ]
    },
    {
     "ename": "UnicodeDecodeError",
     "evalue": "'utf-8' codec can't decode byte 0xe4 in position 85: invalid continuation byte",
     "output_type": "error",
     "traceback": [
      "\u001b[1;31m---------------------------------------------------------------------------\u001b[0m",
      "\u001b[1;31mUnicodeDecodeError\u001b[0m                        Traceback (most recent call last)",
      "\u001b[1;31mUnicodeDecodeError\u001b[0m: 'utf-8' codec can't decode byte 0xe4 in position 85: invalid continuation byte"
     ]
    },
    {
     "name": "stderr",
     "output_type": "stream",
     "text": [
      "Exception ignored in: 'fiona._env.log_error'\n",
      "Traceback (most recent call last):\n",
      "  File \"C:\\Users\\oulain\\miniconda3\\envs\\python-gis\\lib\\site-packages\\fiona\\env.py\", line 283, in defenv\n",
      "    local._env.start()\n",
      "UnicodeDecodeError: 'utf-8' codec can't decode byte 0xe4 in position 85: invalid continuation byte\n"
     ]
    },
    {
     "ename": "UnicodeDecodeError",
     "evalue": "'utf-8' codec can't decode byte 0xe4 in position 76: invalid continuation byte",
     "output_type": "error",
     "traceback": [
      "\u001b[1;31m---------------------------------------------------------------------------\u001b[0m",
      "\u001b[1;31mUnicodeDecodeError\u001b[0m                        Traceback (most recent call last)",
      "\u001b[1;31mUnicodeDecodeError\u001b[0m: 'utf-8' codec can't decode byte 0xe4 in position 76: invalid continuation byte"
     ]
    },
    {
     "name": "stderr",
     "output_type": "stream",
     "text": [
      "Exception ignored in: 'fiona._env.log_error'\n",
      "Traceback (most recent call last):\n",
      "  File \"C:\\Users\\oulain\\miniconda3\\envs\\python-gis\\lib\\site-packages\\fiona\\env.py\", line 283, in defenv\n",
      "    local._env.start()\n",
      "UnicodeDecodeError: 'utf-8' codec can't decode byte 0xe4 in position 76: invalid continuation byte\n"
     ]
    },
    {
     "ename": "UnicodeDecodeError",
     "evalue": "'utf-8' codec can't decode byte 0xe4 in position 76: invalid continuation byte",
     "output_type": "error",
     "traceback": [
      "\u001b[1;31m---------------------------------------------------------------------------\u001b[0m",
      "\u001b[1;31mUnicodeDecodeError\u001b[0m                        Traceback (most recent call last)",
      "\u001b[1;31mUnicodeDecodeError\u001b[0m: 'utf-8' codec can't decode byte 0xe4 in position 76: invalid continuation byte"
     ]
    },
    {
     "name": "stderr",
     "output_type": "stream",
     "text": [
      "Exception ignored in: 'fiona._env.log_error'\n",
      "Traceback (most recent call last):\n",
      "  File \"C:\\Users\\oulain\\miniconda3\\envs\\python-gis\\lib\\site-packages\\fiona\\env.py\", line 283, in defenv\n",
      "    local._env.start()\n",
      "UnicodeDecodeError: 'utf-8' codec can't decode byte 0xe4 in position 76: invalid continuation byte\n"
     ]
    },
    {
     "ename": "UnicodeDecodeError",
     "evalue": "'utf-8' codec can't decode byte 0xe4 in position 75: invalid continuation byte",
     "output_type": "error",
     "traceback": [
      "\u001b[1;31m---------------------------------------------------------------------------\u001b[0m",
      "\u001b[1;31mUnicodeDecodeError\u001b[0m                        Traceback (most recent call last)",
      "\u001b[1;31mUnicodeDecodeError\u001b[0m: 'utf-8' codec can't decode byte 0xe4 in position 75: invalid continuation byte"
     ]
    },
    {
     "name": "stderr",
     "output_type": "stream",
     "text": [
      "Exception ignored in: 'fiona._env.log_error'\n",
      "Traceback (most recent call last):\n",
      "  File \"C:\\Users\\oulain\\miniconda3\\envs\\python-gis\\lib\\site-packages\\fiona\\env.py\", line 283, in defenv\n",
      "    local._env.start()\n",
      "UnicodeDecodeError: 'utf-8' codec can't decode byte 0xe4 in position 75: invalid continuation byte\n"
     ]
    },
    {
     "ename": "UnicodeDecodeError",
     "evalue": "'utf-8' codec can't decode byte 0xe4 in position 75: invalid continuation byte",
     "output_type": "error",
     "traceback": [
      "\u001b[1;31m---------------------------------------------------------------------------\u001b[0m",
      "\u001b[1;31mUnicodeDecodeError\u001b[0m                        Traceback (most recent call last)",
      "\u001b[1;31mUnicodeDecodeError\u001b[0m: 'utf-8' codec can't decode byte 0xe4 in position 75: invalid continuation byte"
     ]
    },
    {
     "name": "stderr",
     "output_type": "stream",
     "text": [
      "Exception ignored in: 'fiona._env.log_error'\n",
      "Traceback (most recent call last):\n",
      "  File \"C:\\Users\\oulain\\miniconda3\\envs\\python-gis\\lib\\site-packages\\fiona\\env.py\", line 283, in defenv\n",
      "    local._env.start()\n",
      "UnicodeDecodeError: 'utf-8' codec can't decode byte 0xe4 in position 75: invalid continuation byte\n"
     ]
    },
    {
     "name": "stdout",
     "output_type": "stream",
     "text": [
      "\n",
      "NODE_LIST ALKU \n",
      "   NUTS_ID  LEVL_CODE CNTR_CODE         NAME_LATN         NUTS_NAME  \\\n",
      "0    CZ05          2        CZ     SeverovÃ½chod     SeverovÃ½chod   \n",
      "1    CZ06          2        CZ       JihovÃ½chod       JihovÃ½chod   \n",
      "2    CZ07          2        CZ  StÅednÃ­ Morava  StÅednÃ­ Morava   \n",
      "3    CZ08          2        CZ   Moravskoslezsko   Moravskoslezsko   \n",
      "4    DE11          2        DE         Stuttgart         Stuttgart   \n",
      "\n",
      "   MOUNT_TYPE  URBN_TYPE  COAST_TYPE   FID       X       Y  \\\n",
      "0         0.0          0           0  CZ05  15.773  50.283   \n",
      "1         0.0          0           0  CZ06  16.171  49.241   \n",
      "2         0.0          0           0  CZ07  17.430  49.539   \n",
      "3         0.0          0           0  CZ08  17.986  49.822   \n",
      "4         0.0          0           0  DE11   9.617  49.026   \n",
      "\n",
      "                    geometry  \n",
      "0  POINT (15.77300 50.28300)  \n",
      "1  POINT (16.17100 49.24100)  \n",
      "2  POINT (17.43000 49.53900)  \n",
      "3  POINT (17.98600 49.82200)  \n",
      "4   POINT (9.61700 49.02600)  \n"
     ]
    },
    {
     "name": "stderr",
     "output_type": "stream",
     "text": [
      "Drawing curves: : 0it [00:00, ?it/s]\n"
     ]
    },
    {
     "ename": "IndexError",
     "evalue": "list index out of range",
     "output_type": "error",
     "traceback": [
      "\u001b[1;31m---------------------------------------------------------------------------\u001b[0m",
      "\u001b[1;31mIndexError\u001b[0m                                Traceback (most recent call last)",
      "Input \u001b[1;32mIn [144]\u001b[0m, in \u001b[0;36m<cell line: 68>\u001b[1;34m()\u001b[0m\n\u001b[0;32m     63\u001b[0m \u001b[38;5;28mprint\u001b[39m(\u001b[38;5;124m'\u001b[39m\u001b[38;5;124mControl point lists\u001b[39m\u001b[38;5;124m'\u001b[39m,control_point_lists[:\u001b[38;5;241m1\u001b[39m])\n\u001b[0;32m     65\u001b[0m \u001b[38;5;66;03m############################################################################################\u001b[39;00m\n\u001b[0;32m     66\u001b[0m \u001b[38;5;66;03m# DRAWING\u001b[39;00m\n\u001b[0;32m     67\u001b[0m \u001b[38;5;66;03m############################################################################################\u001b[39;00m\n\u001b[1;32m---> 68\u001b[0m \u001b[43mdraw\u001b[49m\u001b[43m(\u001b[49m\u001b[43mcontrol_point_lists\u001b[49m\u001b[43m,\u001b[49m\u001b[43m \u001b[49m\u001b[43mnodes\u001b[49m\u001b[43m,\u001b[49m\u001b[43m \u001b[49m\u001b[43medges\u001b[49m\u001b[43m,\u001b[49m\u001b[43m \u001b[49m\u001b[43mn\u001b[49m\u001b[43m,\u001b[49m\u001b[43m \u001b[49m\u001b[43mplot_3d\u001b[49m\u001b[43m,\u001b[49m\u001b[43m \u001b[49m\u001b[43mdraw_map\u001b[49m\u001b[43m,\u001b[49m\u001b[43m \u001b[49m\u001b[43moutput_option\u001b[49m\u001b[43m)\u001b[49m\n\u001b[0;32m     70\u001b[0m \u001b[38;5;28mprint\u001b[39m(\u001b[38;5;124mf\u001b[39m\u001b[38;5;124m\"\u001b[39m\u001b[38;5;124mOut of \u001b[39m\u001b[38;5;132;01m{\u001b[39;00m\u001b[38;5;28mlen\u001b[39m(edges)\u001b[38;5;132;01m}\u001b[39;00m\u001b[38;5;124m edges, \u001b[39m\u001b[38;5;132;01m{\u001b[39;00mtoo_long\u001b[38;5;132;01m}\u001b[39;00m\u001b[38;5;124m had too long detour and \u001b[39m\u001b[38;5;132;01m{\u001b[39;00mno_path\u001b[38;5;132;01m}\u001b[39;00m\u001b[38;5;124m had no alternative path.\u001b[39m\u001b[38;5;124m\"\u001b[39m)\n",
      "Input \u001b[1;32mIn [135]\u001b[0m, in \u001b[0;36mdraw\u001b[1;34m(control_points, nodes, edges, n, use_3d, draw_map, output_option)\u001b[0m\n\u001b[0;32m     43\u001b[0m     y \u001b[38;5;241m=\u001b[39m [arr[\u001b[38;5;241m1\u001b[39m] \u001b[38;5;28;01mfor\u001b[39;00m arr \u001b[38;5;129;01min\u001b[39;00m polygon]\n\u001b[0;32m     44\u001b[0m     \u001b[38;5;66;03m#plt.plot(x, y, color='red', linewidth=0.1, alpha=1)\u001b[39;00m\n\u001b[1;32m---> 45\u001b[0m \u001b[38;5;28mprint\u001b[39m(\u001b[38;5;124m'\u001b[39m\u001b[38;5;130;01m\\n\u001b[39;00m\u001b[38;5;124mPRINTING 1. BEZIER \u001b[39m\u001b[38;5;130;01m\\n\u001b[39;00m\u001b[38;5;124m'\u001b[39m, \u001b[43mbezier_polygons\u001b[49m\u001b[43m[\u001b[49m\u001b[38;5;241;43m0\u001b[39;49m\u001b[43m]\u001b[49m)\n\u001b[0;32m     47\u001b[0m \u001b[38;5;66;03m# create a list for the first and last points of each bezier line\u001b[39;00m\n\u001b[0;32m     48\u001b[0m cp_list \u001b[38;5;241m=\u001b[39m [] \u001b[38;5;66;03m#lista 1. ja vika control_points\u001b[39;00m\n",
      "\u001b[1;31mIndexError\u001b[0m: list index out of range"
     ]
    }
   ],
   "source": [
    "from tqdm import tqdm\n",
    "#from bezier import control_points\n",
    "#from drawing import draw\n",
    "\n",
    "from numba.core.errors import NumbaDeprecationWarning, NumbaPendingDeprecationWarning\n",
    "import warnings\n",
    "\n",
    "warnings.simplefilter('ignore', category=NumbaDeprecationWarning)\n",
    "warnings.simplefilter('ignore', category=NumbaPendingDeprecationWarning)\n",
    "\n",
    "############################################################################################\n",
    "# PARAMETERS\n",
    "############################################################################################\n",
    "\n",
    "d = 2.0  # edge weight parameter, weight = distance^d\n",
    "k = 2.0  # if new detour is longer than k times the original line it is not bundled\n",
    "n = 100  # number of sampling points in Bezier curves\n",
    "draw_map = True  # Draw map for the underlying data\n",
    "plot_3d = False  # Plot for use on sphere\n",
    "smoothing = 2  # Smoothing parameter for Bezier curves\n",
    "output_option = 1 # Choose drawing output file option\n",
    "\n",
    "# data source\n",
    "nodes, edges = get_locations_data(d)\n",
    "# nodes, edges = migrations.get_migrations_data(d)\n",
    "\n",
    "############################################################################################\n",
    "# MAIN CYCLE\n",
    "############################################################################################\n",
    "\n",
    "control_point_lists = []\n",
    "too_long = 0\n",
    "no_path = 0\n",
    "for edge in tqdm(edges, desc=\"Computing: \"):\n",
    "    if edge.lock:\n",
    "        continue\n",
    "\n",
    "    edge.skip = True\n",
    "\n",
    "    source = nodes[edge.source]\n",
    "    dest = nodes[edge.destination]\n",
    "\n",
    "    path = find_shortest_path(source, dest, nodes)\n",
    "\n",
    "    if len(path) == 0:\n",
    "        no_path += 1\n",
    "        edge.skip = False\n",
    "        continue\n",
    "\n",
    "    original_edge_distance = source.distance_to(dest)\n",
    "    new_path_length = sum([e.distance for e in path])\n",
    "\n",
    "    if new_path_length > k * original_edge_distance:\n",
    "        too_long += 1\n",
    "        edge.skip = False\n",
    "        continue\n",
    "\n",
    "    for edge_in_path in path:\n",
    "        edge_in_path.lock = True\n",
    "\n",
    "    # Get control points for drawing\n",
    "    control_point_lists.append(get(source, dest, nodes, path, smoothing))\n",
    "print('Control point lists',control_point_lists[:1])\n",
    "\n",
    "############################################################################################\n",
    "# DRAWING\n",
    "############################################################################################\n",
    "draw(control_point_lists, nodes, edges, n, plot_3d, draw_map, output_option)\n",
    "\n",
    "print(f\"Out of {len(edges)} edges, {too_long} had too long detour and {no_path} had no alternative path.\")\n"
   ]
  },
  {
   "cell_type": "code",
   "execution_count": null,
   "id": "d5838647-5b45-4b45-be05-443b7cf382b0",
   "metadata": {},
   "outputs": [],
   "source": []
  }
 ],
 "metadata": {
  "kernelspec": {
   "display_name": "Python 3 (ipykernel)",
   "language": "python",
   "name": "python3"
  },
  "language_info": {
   "codemirror_mode": {
    "name": "ipython",
    "version": 3
   },
   "file_extension": ".py",
   "mimetype": "text/x-python",
   "name": "python",
   "nbconvert_exporter": "python",
   "pygments_lexer": "ipython3",
   "version": "3.8.6"
  }
 },
 "nbformat": 4,
 "nbformat_minor": 5
}
